{
 "cells": [
  {
   "cell_type": "code",
   "execution_count": 254,
   "id": "17312e24",
   "metadata": {},
   "outputs": [],
   "source": [
    "# Import libarires\n",
    "import pandas as pd\n",
    "import numpy as np\n",
    "import matplotlib.pyplot as plt\n",
    "import seaborn as sns\n",
    "from sklearn.preprocessing import OrdinalEncoder\n",
    "import matplotlib.pyplot as plt\n",
    "import matplotlib.patheffects as pe\n",
    "import math"
   ]
  },
  {
   "cell_type": "code",
   "execution_count": 255,
   "id": "d0214dbf",
   "metadata": {},
   "outputs": [],
   "source": [
    "# Importing datasets\n",
    "algo_ds_leaderboard = pd.read_csv(\"algo_ds_leaderboard.csv\",sep=\";\")\n",
    "algo_ds_info = pd.read_csv(\"algo_ds_info.csv\")"
   ]
  },
  {
   "cell_type": "markdown",
   "id": "ac8426e5",
   "metadata": {},
   "source": [
    "## Data Cleaning:\n",
    "---"
   ]
  },
  {
   "cell_type": "code",
   "execution_count": 256,
   "id": "09bb4cc0",
   "metadata": {},
   "outputs": [
    {
     "data": {
      "text/html": [
       "<div>\n",
       "<style scoped>\n",
       "    .dataframe tbody tr th:only-of-type {\n",
       "        vertical-align: middle;\n",
       "    }\n",
       "\n",
       "    .dataframe tbody tr th {\n",
       "        vertical-align: top;\n",
       "    }\n",
       "\n",
       "    .dataframe thead th {\n",
       "        text-align: right;\n",
       "    }\n",
       "</style>\n",
       "<table border=\"1\" class=\"dataframe\">\n",
       "  <thead>\n",
       "    <tr style=\"text-align: right;\">\n",
       "      <th></th>\n",
       "      <th>problem_id</th>\n",
       "      <th>problem_type</th>\n",
       "      <th>problem_name</th>\n",
       "      <th>difficulty</th>\n",
       "      <th>skills</th>\n",
       "      <th>max_score</th>\n",
       "    </tr>\n",
       "  </thead>\n",
       "  <tbody>\n",
       "    <tr>\n",
       "      <th>0</th>\n",
       "      <td>0</td>\n",
       "      <td>algorithms</td>\n",
       "      <td>day-of-the-programmer</td>\n",
       "      <td>Easy</td>\n",
       "      <td>Basic</td>\n",
       "      <td>15</td>\n",
       "    </tr>\n",
       "    <tr>\n",
       "      <th>1</th>\n",
       "      <td>1</td>\n",
       "      <td>algorithms</td>\n",
       "      <td>time-conversion</td>\n",
       "      <td>Easy</td>\n",
       "      <td>Basic</td>\n",
       "      <td>15</td>\n",
       "    </tr>\n",
       "    <tr>\n",
       "      <th>2</th>\n",
       "      <td>2</td>\n",
       "      <td>algorithms</td>\n",
       "      <td>sock-merchant</td>\n",
       "      <td>Easy</td>\n",
       "      <td>Basic</td>\n",
       "      <td>10</td>\n",
       "    </tr>\n",
       "    <tr>\n",
       "      <th>3</th>\n",
       "      <td>3</td>\n",
       "      <td>algorithms</td>\n",
       "      <td>utopian-tree</td>\n",
       "      <td>Easy</td>\n",
       "      <td>Basic</td>\n",
       "      <td>20</td>\n",
       "    </tr>\n",
       "    <tr>\n",
       "      <th>4</th>\n",
       "      <td>4</td>\n",
       "      <td>algorithms</td>\n",
       "      <td>append-and-delete</td>\n",
       "      <td>Easy</td>\n",
       "      <td>Basic</td>\n",
       "      <td>20</td>\n",
       "    </tr>\n",
       "    <tr>\n",
       "      <th>5</th>\n",
       "      <td>5</td>\n",
       "      <td>algorithms</td>\n",
       "      <td>taum-and-bday</td>\n",
       "      <td>Easy</td>\n",
       "      <td>Basic</td>\n",
       "      <td>25</td>\n",
       "    </tr>\n",
       "    <tr>\n",
       "      <th>6</th>\n",
       "      <td>6</td>\n",
       "      <td>algorithms</td>\n",
       "      <td>service-lane</td>\n",
       "      <td>Easy</td>\n",
       "      <td>Basic</td>\n",
       "      <td>20</td>\n",
       "    </tr>\n",
       "    <tr>\n",
       "      <th>7</th>\n",
       "      <td>7</td>\n",
       "      <td>algorithms</td>\n",
       "      <td>absolute-permutation</td>\n",
       "      <td>Medium</td>\n",
       "      <td>Intermediate</td>\n",
       "      <td>40</td>\n",
       "    </tr>\n",
       "    <tr>\n",
       "      <th>8</th>\n",
       "      <td>8</td>\n",
       "      <td>algorithms</td>\n",
       "      <td>insertionsort1</td>\n",
       "      <td>Easy</td>\n",
       "      <td>Basic</td>\n",
       "      <td>30</td>\n",
       "    </tr>\n",
       "    <tr>\n",
       "      <th>9</th>\n",
       "      <td>9</td>\n",
       "      <td>algorithms</td>\n",
       "      <td>pangrams</td>\n",
       "      <td>Easy</td>\n",
       "      <td>Basic</td>\n",
       "      <td>20</td>\n",
       "    </tr>\n",
       "  </tbody>\n",
       "</table>\n",
       "</div>"
      ],
      "text/plain": [
       "   problem_id problem_type           problem_name difficulty        skills  \\\n",
       "0           0   algorithms  day-of-the-programmer       Easy         Basic   \n",
       "1           1   algorithms        time-conversion       Easy         Basic   \n",
       "2           2   algorithms          sock-merchant       Easy         Basic   \n",
       "3           3   algorithms           utopian-tree       Easy         Basic   \n",
       "4           4   algorithms      append-and-delete       Easy         Basic   \n",
       "5           5   algorithms          taum-and-bday       Easy         Basic   \n",
       "6           6   algorithms           service-lane       Easy         Basic   \n",
       "7           7   algorithms   absolute-permutation     Medium  Intermediate   \n",
       "8           8   algorithms         insertionsort1       Easy         Basic   \n",
       "9           9   algorithms               pangrams       Easy         Basic   \n",
       "\n",
       "   max_score  \n",
       "0         15  \n",
       "1         15  \n",
       "2         10  \n",
       "3         20  \n",
       "4         20  \n",
       "5         25  \n",
       "6         20  \n",
       "7         40  \n",
       "8         30  \n",
       "9         20  "
      ]
     },
     "execution_count": 256,
     "metadata": {},
     "output_type": "execute_result"
    }
   ],
   "source": [
    "algo_ds_info[[\"problem_id\",\"max_score\"]] = algo_ds_info[[\"problem_id\",\"max_score\"]].astype(np.int16)\n",
    "algo_ds_info.head(10)"
   ]
  },
  {
   "cell_type": "code",
   "execution_count": 257,
   "id": "93b4a452",
   "metadata": {},
   "outputs": [
    {
     "data": {
      "text/html": [
       "<div>\n",
       "<style scoped>\n",
       "    .dataframe tbody tr th:only-of-type {\n",
       "        vertical-align: middle;\n",
       "    }\n",
       "\n",
       "    .dataframe tbody tr th {\n",
       "        vertical-align: top;\n",
       "    }\n",
       "\n",
       "    .dataframe thead th {\n",
       "        text-align: right;\n",
       "    }\n",
       "</style>\n",
       "<table border=\"1\" class=\"dataframe\">\n",
       "  <thead>\n",
       "    <tr style=\"text-align: right;\">\n",
       "      <th></th>\n",
       "      <th>problem_id</th>\n",
       "      <th>problem_type</th>\n",
       "      <th>pl</th>\n",
       "      <th>country</th>\n",
       "      <th>score</th>\n",
       "      <th>count</th>\n",
       "    </tr>\n",
       "  </thead>\n",
       "  <tbody>\n",
       "    <tr>\n",
       "      <th>0</th>\n",
       "      <td>0</td>\n",
       "      <td>algorithms</td>\n",
       "      <td>c</td>\n",
       "      <td>India</td>\n",
       "      <td>15.0</td>\n",
       "      <td>2100</td>\n",
       "    </tr>\n",
       "    <tr>\n",
       "      <th>1</th>\n",
       "      <td>0</td>\n",
       "      <td>algorithms</td>\n",
       "      <td>c</td>\n",
       "      <td>Germany</td>\n",
       "      <td>15.0</td>\n",
       "      <td>6</td>\n",
       "    </tr>\n",
       "    <tr>\n",
       "      <th>2</th>\n",
       "      <td>0</td>\n",
       "      <td>algorithms</td>\n",
       "      <td>c</td>\n",
       "      <td>Republic of Korea</td>\n",
       "      <td>15.0</td>\n",
       "      <td>8</td>\n",
       "    </tr>\n",
       "    <tr>\n",
       "      <th>3</th>\n",
       "      <td>0</td>\n",
       "      <td>algorithms</td>\n",
       "      <td>c</td>\n",
       "      <td>United Kingdom</td>\n",
       "      <td>15.0</td>\n",
       "      <td>5</td>\n",
       "    </tr>\n",
       "    <tr>\n",
       "      <th>4</th>\n",
       "      <td>0</td>\n",
       "      <td>algorithms</td>\n",
       "      <td>c</td>\n",
       "      <td>Indonesia</td>\n",
       "      <td>15.0</td>\n",
       "      <td>20</td>\n",
       "    </tr>\n",
       "  </tbody>\n",
       "</table>\n",
       "</div>"
      ],
      "text/plain": [
       "   problem_id problem_type pl            country  score  count\n",
       "0           0   algorithms  c              India   15.0   2100\n",
       "1           0   algorithms  c            Germany   15.0      6\n",
       "2           0   algorithms  c  Republic of Korea   15.0      8\n",
       "3           0   algorithms  c     United Kingdom   15.0      5\n",
       "4           0   algorithms  c          Indonesia   15.0     20"
      ]
     },
     "execution_count": 257,
     "metadata": {},
     "output_type": "execute_result"
    }
   ],
   "source": [
    "# Casting to appropriate datatypes\n",
    "algo_ds_leaderboard[[\"problem_id\",\"count\"]] = algo_ds_leaderboard[[\"problem_id\",\"count\"]].astype(np.int16)\n",
    "algo_ds_leaderboard[\"score\"] = algo_ds_leaderboard[\"score\"].astype(np.float16)\n",
    "algo_ds_leaderboard.head()"
   ]
  },
  {
   "cell_type": "markdown",
   "id": "8ec78e1f",
   "metadata": {},
   "source": [
    "### Null Analysis:"
   ]
  },
  {
   "cell_type": "markdown",
   "id": "f67f6390",
   "metadata": {},
   "source": [
    "- **Leaderboard Dataset:**"
   ]
  },
  {
   "cell_type": "code",
   "execution_count": 258,
   "id": "7795ae9b",
   "metadata": {},
   "outputs": [
    {
     "data": {
      "text/html": [
       "<div>\n",
       "<style scoped>\n",
       "    .dataframe tbody tr th:only-of-type {\n",
       "        vertical-align: middle;\n",
       "    }\n",
       "\n",
       "    .dataframe tbody tr th {\n",
       "        vertical-align: top;\n",
       "    }\n",
       "\n",
       "    .dataframe thead th {\n",
       "        text-align: right;\n",
       "    }\n",
       "</style>\n",
       "<table border=\"1\" class=\"dataframe\">\n",
       "  <thead>\n",
       "    <tr style=\"text-align: right;\">\n",
       "      <th></th>\n",
       "      <th>problem_id</th>\n",
       "      <th>problem_type</th>\n",
       "      <th>pl</th>\n",
       "      <th>country</th>\n",
       "      <th>score</th>\n",
       "      <th>count</th>\n",
       "    </tr>\n",
       "  </thead>\n",
       "  <tbody>\n",
       "    <tr>\n",
       "      <th>15</th>\n",
       "      <td>0</td>\n",
       "      <td>algorithms</td>\n",
       "      <td>c</td>\n",
       "      <td>Null</td>\n",
       "      <td>15.000000</td>\n",
       "      <td>17</td>\n",
       "    </tr>\n",
       "    <tr>\n",
       "      <th>68</th>\n",
       "      <td>0</td>\n",
       "      <td>algorithms</td>\n",
       "      <td>c</td>\n",
       "      <td>Null</td>\n",
       "      <td>13.351562</td>\n",
       "      <td>1</td>\n",
       "    </tr>\n",
       "    <tr>\n",
       "      <th>79</th>\n",
       "      <td>0</td>\n",
       "      <td>algorithms</td>\n",
       "      <td>c</td>\n",
       "      <td>Null</td>\n",
       "      <td>11.703125</td>\n",
       "      <td>1</td>\n",
       "    </tr>\n",
       "    <tr>\n",
       "      <th>85</th>\n",
       "      <td>0</td>\n",
       "      <td>algorithms</td>\n",
       "      <td>c</td>\n",
       "      <td>Null</td>\n",
       "      <td>10.500000</td>\n",
       "      <td>3</td>\n",
       "    </tr>\n",
       "    <tr>\n",
       "      <th>108</th>\n",
       "      <td>0</td>\n",
       "      <td>algorithms</td>\n",
       "      <td>c</td>\n",
       "      <td>Null</td>\n",
       "      <td>0.000000</td>\n",
       "      <td>1</td>\n",
       "    </tr>\n",
       "  </tbody>\n",
       "</table>\n",
       "</div>"
      ],
      "text/plain": [
       "     problem_id problem_type pl country      score  count\n",
       "15            0   algorithms  c    Null  15.000000     17\n",
       "68            0   algorithms  c    Null  13.351562      1\n",
       "79            0   algorithms  c    Null  11.703125      1\n",
       "85            0   algorithms  c    Null  10.500000      3\n",
       "108           0   algorithms  c    Null   0.000000      1"
      ]
     },
     "execution_count": 258,
     "metadata": {},
     "output_type": "execute_result"
    }
   ],
   "source": [
    "# Check nulls\n",
    "algo_ds_leaderboard[(algo_ds_leaderboard.isnull() | (algo_ds_leaderboard == \"Null\")).sum(axis = 1) >= 1].head()"
   ]
  },
  {
   "cell_type": "code",
   "execution_count": 259,
   "id": "71741d06",
   "metadata": {},
   "outputs": [
    {
     "data": {
      "text/plain": [
       "problem_id      0.00000\n",
       "problem_type    0.00000\n",
       "pl              0.00000\n",
       "country         0.01996\n",
       "score           0.00000\n",
       "count           0.00000\n",
       "dtype: float64"
      ]
     },
     "execution_count": 259,
     "metadata": {},
     "output_type": "execute_result"
    }
   ],
   "source": [
    "# Percentage null in each column\n",
    "((algo_ds_leaderboard.isnull() | (algo_ds_leaderboard == \"Null\"))).sum(axis = 0)/len(algo_ds_leaderboard)"
   ]
  },
  {
   "cell_type": "code",
   "execution_count": 260,
   "id": "baefd5e6",
   "metadata": {},
   "outputs": [],
   "source": [
    "# We can impute the country column since percentage of nulls does not exceed 2%\n",
    "algo_ds_leaderboard.loc[(algo_ds_leaderboard.isnull() | (algo_ds_leaderboard == \"Null\")).sum(axis = 1) >= 1,\"country\"] =  algo_ds_leaderboard[\"country\"].mode().values[0]"
   ]
  },
  {
   "cell_type": "code",
   "execution_count": 261,
   "id": "c1a4bcdc",
   "metadata": {},
   "outputs": [
    {
     "data": {
      "text/plain": [
       "problem_id      0\n",
       "problem_type    0\n",
       "pl              0\n",
       "country         0\n",
       "score           0\n",
       "count           0\n",
       "dtype: int64"
      ]
     },
     "execution_count": 261,
     "metadata": {},
     "output_type": "execute_result"
    }
   ],
   "source": [
    "((algo_ds_leaderboard.isnull() | (algo_ds_leaderboard == \"Null\"))).sum(axis = 0)"
   ]
  },
  {
   "cell_type": "markdown",
   "id": "b65f3258",
   "metadata": {},
   "source": [
    "- **Information Dataset:**"
   ]
  },
  {
   "cell_type": "code",
   "execution_count": 262,
   "id": "337e5e6e",
   "metadata": {},
   "outputs": [
    {
     "data": {
      "text/html": [
       "<div>\n",
       "<style scoped>\n",
       "    .dataframe tbody tr th:only-of-type {\n",
       "        vertical-align: middle;\n",
       "    }\n",
       "\n",
       "    .dataframe tbody tr th {\n",
       "        vertical-align: top;\n",
       "    }\n",
       "\n",
       "    .dataframe thead th {\n",
       "        text-align: right;\n",
       "    }\n",
       "</style>\n",
       "<table border=\"1\" class=\"dataframe\">\n",
       "  <thead>\n",
       "    <tr style=\"text-align: right;\">\n",
       "      <th></th>\n",
       "      <th>problem_id</th>\n",
       "      <th>problem_type</th>\n",
       "      <th>problem_name</th>\n",
       "      <th>difficulty</th>\n",
       "      <th>skills</th>\n",
       "      <th>max_score</th>\n",
       "    </tr>\n",
       "  </thead>\n",
       "  <tbody>\n",
       "    <tr>\n",
       "      <th>12</th>\n",
       "      <td>12</td>\n",
       "      <td>algorithms</td>\n",
       "      <td>count-strings</td>\n",
       "      <td>Hard</td>\n",
       "      <td>Null</td>\n",
       "      <td>80</td>\n",
       "    </tr>\n",
       "    <tr>\n",
       "      <th>13</th>\n",
       "      <td>13</td>\n",
       "      <td>algorithms</td>\n",
       "      <td>similar-strings</td>\n",
       "      <td>Advanced</td>\n",
       "      <td>Null</td>\n",
       "      <td>85</td>\n",
       "    </tr>\n",
       "    <tr>\n",
       "      <th>15</th>\n",
       "      <td>15</td>\n",
       "      <td>algorithms</td>\n",
       "      <td>maximizing-mission-points</td>\n",
       "      <td>Hard</td>\n",
       "      <td>Null</td>\n",
       "      <td>70</td>\n",
       "    </tr>\n",
       "    <tr>\n",
       "      <th>16</th>\n",
       "      <td>16</td>\n",
       "      <td>algorithms</td>\n",
       "      <td>playing-with-numbers</td>\n",
       "      <td>Hard</td>\n",
       "      <td>Null</td>\n",
       "      <td>70</td>\n",
       "    </tr>\n",
       "    <tr>\n",
       "      <th>18</th>\n",
       "      <td>18</td>\n",
       "      <td>algorithms</td>\n",
       "      <td>beautiful-path</td>\n",
       "      <td>Medium</td>\n",
       "      <td>Null</td>\n",
       "      <td>50</td>\n",
       "    </tr>\n",
       "  </tbody>\n",
       "</table>\n",
       "</div>"
      ],
      "text/plain": [
       "    problem_id problem_type               problem_name difficulty skills  \\\n",
       "12          12   algorithms              count-strings       Hard   Null   \n",
       "13          13   algorithms            similar-strings   Advanced   Null   \n",
       "15          15   algorithms  maximizing-mission-points       Hard   Null   \n",
       "16          16   algorithms       playing-with-numbers       Hard   Null   \n",
       "18          18   algorithms             beautiful-path     Medium   Null   \n",
       "\n",
       "    max_score  \n",
       "12         80  \n",
       "13         85  \n",
       "15         70  \n",
       "16         70  \n",
       "18         50  "
      ]
     },
     "execution_count": 262,
     "metadata": {},
     "output_type": "execute_result"
    }
   ],
   "source": [
    "# Check nulls\n",
    "algo_ds_info[(algo_ds_info.isnull() | (algo_ds_info == \"Null\")).sum(axis = 1) >= 1].head()"
   ]
  },
  {
   "cell_type": "code",
   "execution_count": 263,
   "id": "34acb6d9",
   "metadata": {},
   "outputs": [
    {
     "data": {
      "text/plain": [
       "problem_id      0.00000\n",
       "problem_type    0.00000\n",
       "problem_name    0.00000\n",
       "difficulty      0.00000\n",
       "skills          0.54386\n",
       "max_score       0.00000\n",
       "dtype: float64"
      ]
     },
     "execution_count": 263,
     "metadata": {},
     "output_type": "execute_result"
    }
   ],
   "source": [
    "# Percentage null in each column\n",
    "((algo_ds_info.isnull() | (algo_ds_info == \"Null\"))).sum(axis = 0)/len(algo_ds_info)"
   ]
  },
  {
   "cell_type": "code",
   "execution_count": 264,
   "id": "f4a40021",
   "metadata": {},
   "outputs": [],
   "source": [
    "# Percentage of nulls in skills column is so high (exceed 50%!!) so let's drop it\n",
    "algo_ds_info = algo_ds_info.drop(\"skills\", axis = 1)"
   ]
  },
  {
   "cell_type": "code",
   "execution_count": 265,
   "id": "f8a63785",
   "metadata": {},
   "outputs": [
    {
     "data": {
      "text/plain": [
       "problem_id       int16\n",
       "problem_type    object\n",
       "problem_name    object\n",
       "difficulty      object\n",
       "max_score        int16\n",
       "dtype: object"
      ]
     },
     "execution_count": 265,
     "metadata": {},
     "output_type": "execute_result"
    }
   ],
   "source": [
    "algo_ds_info.dtypes"
   ]
  },
  {
   "cell_type": "code",
   "execution_count": 266,
   "id": "7e4a50ed",
   "metadata": {},
   "outputs": [
    {
     "data": {
      "text/plain": [
       "array([['Easy', 'Easy', 'Easy', 'Easy', 'Easy', 'Easy', 'Easy', 'Medium',\n",
       "        'Easy', 'Easy', 'Easy', 'Easy', 'Hard', 'Advanced', 'Medium',\n",
       "        'Hard', 'Hard', 'Medium', 'Medium', 'Medium', 'Hard', 'Advanced',\n",
       "        'Expert', 'Easy', 'Medium', 'Hard', 'Medium', 'Medium', 'Medium',\n",
       "        'Hard', 'Medium', 'Expert', 'Hard', 'Medium', 'Hard', 'Advanced',\n",
       "        'Expert', 'Medium', 'Hard', 'Medium', 'Advanced', 'Medium',\n",
       "        'Medium', 'Medium', 'Medium', 'Easy', 'Easy', 'Easy', 'Medium',\n",
       "        'Hard', 'Hard', 'Hard', 'Medium', 'Advanced', 'Expert',\n",
       "        'Advanced', 'Advanced']], dtype=object)"
      ]
     },
     "execution_count": 266,
     "metadata": {},
     "output_type": "execute_result"
    }
   ],
   "source": [
    "algo_ds_info[\"difficulty\"].to_numpy().reshape(1,-1)"
   ]
  },
  {
   "cell_type": "markdown",
   "id": "56c6c92a",
   "metadata": {},
   "source": [
    "## Data Wrangling:\n",
    "---"
   ]
  },
  {
   "cell_type": "markdown",
   "id": "81b10321",
   "metadata": {},
   "source": [
    "- ### Ordinal Encoding for Difficulty Column:"
   ]
  },
  {
   "cell_type": "code",
   "execution_count": 267,
   "id": "796d42cb",
   "metadata": {},
   "outputs": [
    {
     "data": {
      "text/plain": [
       "array([['Easy', 'Medium', 'Hard', 'Advanced', 'Expert']], dtype=object)"
      ]
     },
     "execution_count": 267,
     "metadata": {},
     "output_type": "execute_result"
    }
   ],
   "source": [
    "algo_ds_info[\"difficulty\"].unique().reshape(1,-1)"
   ]
  },
  {
   "cell_type": "code",
   "execution_count": 268,
   "id": "a0fcd5f2",
   "metadata": {},
   "outputs": [],
   "source": [
    "ordinal_encoder = OrdinalEncoder(categories=[['Easy', 'Medium', 'Hard', 'Advanced', 'Expert']])\n",
    "algo_ds_info[\"difficulty\"] = ordinal_encoder.fit_transform(algo_ds_info[\"difficulty\"].to_numpy().reshape(-1,1))"
   ]
  },
  {
   "cell_type": "code",
   "execution_count": 269,
   "id": "24175459",
   "metadata": {},
   "outputs": [],
   "source": [
    "# Casting to appropriate data type\n",
    "algo_ds_info[\"difficulty\"] = algo_ds_info[\"difficulty\"].astype(np.int8)"
   ]
  },
  {
   "cell_type": "code",
   "execution_count": 270,
   "id": "de98aa3f",
   "metadata": {},
   "outputs": [
    {
     "data": {
      "text/plain": [
       "0     0\n",
       "1     0\n",
       "2     0\n",
       "3     0\n",
       "4     0\n",
       "5     0\n",
       "6     0\n",
       "7     1\n",
       "8     0\n",
       "9     0\n",
       "10    0\n",
       "11    0\n",
       "12    2\n",
       "13    3\n",
       "14    1\n",
       "15    2\n",
       "16    2\n",
       "17    1\n",
       "18    1\n",
       "19    1\n",
       "20    2\n",
       "21    3\n",
       "22    4\n",
       "23    0\n",
       "24    1\n",
       "25    2\n",
       "26    1\n",
       "27    1\n",
       "28    1\n",
       "29    2\n",
       "30    1\n",
       "31    4\n",
       "32    2\n",
       "33    1\n",
       "34    2\n",
       "35    3\n",
       "36    4\n",
       "37    1\n",
       "38    2\n",
       "39    1\n",
       "40    3\n",
       "41    1\n",
       "42    1\n",
       "43    1\n",
       "44    1\n",
       "45    0\n",
       "46    0\n",
       "47    0\n",
       "48    1\n",
       "49    2\n",
       "50    2\n",
       "51    2\n",
       "52    1\n",
       "53    3\n",
       "54    4\n",
       "55    3\n",
       "56    3\n",
       "Name: difficulty, dtype: int8"
      ]
     },
     "execution_count": 270,
     "metadata": {},
     "output_type": "execute_result"
    }
   ],
   "source": [
    "algo_ds_info[\"difficulty\"]"
   ]
  },
  {
   "cell_type": "markdown",
   "id": "b4e318a1",
   "metadata": {},
   "source": [
    "- ### Merging two Datasets and Creating New Columns:"
   ]
  },
  {
   "cell_type": "code",
   "execution_count": 271,
   "id": "f66c7225",
   "metadata": {},
   "outputs": [
    {
     "data": {
      "text/html": [
       "<div>\n",
       "<style scoped>\n",
       "    .dataframe tbody tr th:only-of-type {\n",
       "        vertical-align: middle;\n",
       "    }\n",
       "\n",
       "    .dataframe tbody tr th {\n",
       "        vertical-align: top;\n",
       "    }\n",
       "\n",
       "    .dataframe thead th {\n",
       "        text-align: right;\n",
       "    }\n",
       "</style>\n",
       "<table border=\"1\" class=\"dataframe\">\n",
       "  <thead>\n",
       "    <tr style=\"text-align: right;\">\n",
       "      <th></th>\n",
       "      <th>problem_id</th>\n",
       "      <th>problem_name</th>\n",
       "      <th>problem_type</th>\n",
       "      <th>pl</th>\n",
       "      <th>country</th>\n",
       "      <th>score</th>\n",
       "      <th>count</th>\n",
       "      <th>difficulty</th>\n",
       "      <th>max_score</th>\n",
       "    </tr>\n",
       "  </thead>\n",
       "  <tbody>\n",
       "    <tr>\n",
       "      <th>0</th>\n",
       "      <td>0</td>\n",
       "      <td>day-of-the-programmer</td>\n",
       "      <td>algorithms</td>\n",
       "      <td>c</td>\n",
       "      <td>India</td>\n",
       "      <td>15.0</td>\n",
       "      <td>2100</td>\n",
       "      <td>0</td>\n",
       "      <td>15</td>\n",
       "    </tr>\n",
       "    <tr>\n",
       "      <th>1</th>\n",
       "      <td>0</td>\n",
       "      <td>day-of-the-programmer</td>\n",
       "      <td>algorithms</td>\n",
       "      <td>c</td>\n",
       "      <td>Germany</td>\n",
       "      <td>15.0</td>\n",
       "      <td>6</td>\n",
       "      <td>0</td>\n",
       "      <td>15</td>\n",
       "    </tr>\n",
       "    <tr>\n",
       "      <th>2</th>\n",
       "      <td>0</td>\n",
       "      <td>day-of-the-programmer</td>\n",
       "      <td>algorithms</td>\n",
       "      <td>c</td>\n",
       "      <td>Republic of Korea</td>\n",
       "      <td>15.0</td>\n",
       "      <td>8</td>\n",
       "      <td>0</td>\n",
       "      <td>15</td>\n",
       "    </tr>\n",
       "    <tr>\n",
       "      <th>3</th>\n",
       "      <td>0</td>\n",
       "      <td>day-of-the-programmer</td>\n",
       "      <td>algorithms</td>\n",
       "      <td>c</td>\n",
       "      <td>United Kingdom</td>\n",
       "      <td>15.0</td>\n",
       "      <td>5</td>\n",
       "      <td>0</td>\n",
       "      <td>15</td>\n",
       "    </tr>\n",
       "    <tr>\n",
       "      <th>4</th>\n",
       "      <td>0</td>\n",
       "      <td>day-of-the-programmer</td>\n",
       "      <td>algorithms</td>\n",
       "      <td>c</td>\n",
       "      <td>Indonesia</td>\n",
       "      <td>15.0</td>\n",
       "      <td>20</td>\n",
       "      <td>0</td>\n",
       "      <td>15</td>\n",
       "    </tr>\n",
       "  </tbody>\n",
       "</table>\n",
       "</div>"
      ],
      "text/plain": [
       "   problem_id           problem_name problem_type pl            country  \\\n",
       "0           0  day-of-the-programmer   algorithms  c              India   \n",
       "1           0  day-of-the-programmer   algorithms  c            Germany   \n",
       "2           0  day-of-the-programmer   algorithms  c  Republic of Korea   \n",
       "3           0  day-of-the-programmer   algorithms  c     United Kingdom   \n",
       "4           0  day-of-the-programmer   algorithms  c          Indonesia   \n",
       "\n",
       "   score  count  difficulty  max_score  \n",
       "0   15.0   2100           0         15  \n",
       "1   15.0      6           0         15  \n",
       "2   15.0      8           0         15  \n",
       "3   15.0      5           0         15  \n",
       "4   15.0     20           0         15  "
      ]
     },
     "execution_count": 271,
     "metadata": {},
     "output_type": "execute_result"
    }
   ],
   "source": [
    "algo_ds_merged = algo_ds_leaderboard.merge(algo_ds_info, on=[\"problem_id\",\"problem_type\"],how=\"inner\")[['problem_id', 'problem_name', 'problem_type', 'pl', 'country', 'score', 'count', 'difficulty', 'max_score']]\n",
    "algo_ds_merged.head()"
   ]
  },
  {
   "cell_type": "code",
   "execution_count": 272,
   "id": "9af422c7",
   "metadata": {},
   "outputs": [
    {
     "data": {
      "text/html": [
       "<div>\n",
       "<style scoped>\n",
       "    .dataframe tbody tr th:only-of-type {\n",
       "        vertical-align: middle;\n",
       "    }\n",
       "\n",
       "    .dataframe tbody tr th {\n",
       "        vertical-align: top;\n",
       "    }\n",
       "\n",
       "    .dataframe thead th {\n",
       "        text-align: right;\n",
       "    }\n",
       "</style>\n",
       "<table border=\"1\" class=\"dataframe\">\n",
       "  <thead>\n",
       "    <tr style=\"text-align: right;\">\n",
       "      <th></th>\n",
       "      <th>problem_id</th>\n",
       "      <th>problem_name</th>\n",
       "      <th>problem_type</th>\n",
       "      <th>pl</th>\n",
       "      <th>country</th>\n",
       "      <th>score</th>\n",
       "      <th>count</th>\n",
       "      <th>difficulty</th>\n",
       "      <th>max_score</th>\n",
       "      <th>score_percentage</th>\n",
       "    </tr>\n",
       "  </thead>\n",
       "  <tbody>\n",
       "    <tr>\n",
       "      <th>0</th>\n",
       "      <td>0</td>\n",
       "      <td>day-of-the-programmer</td>\n",
       "      <td>algorithms</td>\n",
       "      <td>c</td>\n",
       "      <td>India</td>\n",
       "      <td>15.0</td>\n",
       "      <td>2100</td>\n",
       "      <td>0</td>\n",
       "      <td>15</td>\n",
       "      <td>1.0</td>\n",
       "    </tr>\n",
       "    <tr>\n",
       "      <th>1</th>\n",
       "      <td>0</td>\n",
       "      <td>day-of-the-programmer</td>\n",
       "      <td>algorithms</td>\n",
       "      <td>c</td>\n",
       "      <td>Germany</td>\n",
       "      <td>15.0</td>\n",
       "      <td>6</td>\n",
       "      <td>0</td>\n",
       "      <td>15</td>\n",
       "      <td>1.0</td>\n",
       "    </tr>\n",
       "    <tr>\n",
       "      <th>2</th>\n",
       "      <td>0</td>\n",
       "      <td>day-of-the-programmer</td>\n",
       "      <td>algorithms</td>\n",
       "      <td>c</td>\n",
       "      <td>Republic of Korea</td>\n",
       "      <td>15.0</td>\n",
       "      <td>8</td>\n",
       "      <td>0</td>\n",
       "      <td>15</td>\n",
       "      <td>1.0</td>\n",
       "    </tr>\n",
       "    <tr>\n",
       "      <th>3</th>\n",
       "      <td>0</td>\n",
       "      <td>day-of-the-programmer</td>\n",
       "      <td>algorithms</td>\n",
       "      <td>c</td>\n",
       "      <td>United Kingdom</td>\n",
       "      <td>15.0</td>\n",
       "      <td>5</td>\n",
       "      <td>0</td>\n",
       "      <td>15</td>\n",
       "      <td>1.0</td>\n",
       "    </tr>\n",
       "    <tr>\n",
       "      <th>4</th>\n",
       "      <td>0</td>\n",
       "      <td>day-of-the-programmer</td>\n",
       "      <td>algorithms</td>\n",
       "      <td>c</td>\n",
       "      <td>Indonesia</td>\n",
       "      <td>15.0</td>\n",
       "      <td>20</td>\n",
       "      <td>0</td>\n",
       "      <td>15</td>\n",
       "      <td>1.0</td>\n",
       "    </tr>\n",
       "    <tr>\n",
       "      <th>5</th>\n",
       "      <td>0</td>\n",
       "      <td>day-of-the-programmer</td>\n",
       "      <td>algorithms</td>\n",
       "      <td>c</td>\n",
       "      <td>Bulgaria</td>\n",
       "      <td>15.0</td>\n",
       "      <td>3</td>\n",
       "      <td>0</td>\n",
       "      <td>15</td>\n",
       "      <td>1.0</td>\n",
       "    </tr>\n",
       "    <tr>\n",
       "      <th>6</th>\n",
       "      <td>0</td>\n",
       "      <td>day-of-the-programmer</td>\n",
       "      <td>algorithms</td>\n",
       "      <td>c</td>\n",
       "      <td>United States</td>\n",
       "      <td>15.0</td>\n",
       "      <td>42</td>\n",
       "      <td>0</td>\n",
       "      <td>15</td>\n",
       "      <td>1.0</td>\n",
       "    </tr>\n",
       "    <tr>\n",
       "      <th>7</th>\n",
       "      <td>0</td>\n",
       "      <td>day-of-the-programmer</td>\n",
       "      <td>algorithms</td>\n",
       "      <td>c</td>\n",
       "      <td>Brazil</td>\n",
       "      <td>15.0</td>\n",
       "      <td>8</td>\n",
       "      <td>0</td>\n",
       "      <td>15</td>\n",
       "      <td>1.0</td>\n",
       "    </tr>\n",
       "    <tr>\n",
       "      <th>8</th>\n",
       "      <td>0</td>\n",
       "      <td>day-of-the-programmer</td>\n",
       "      <td>algorithms</td>\n",
       "      <td>c</td>\n",
       "      <td>Sri Lanka</td>\n",
       "      <td>15.0</td>\n",
       "      <td>13</td>\n",
       "      <td>0</td>\n",
       "      <td>15</td>\n",
       "      <td>1.0</td>\n",
       "    </tr>\n",
       "    <tr>\n",
       "      <th>9</th>\n",
       "      <td>0</td>\n",
       "      <td>day-of-the-programmer</td>\n",
       "      <td>algorithms</td>\n",
       "      <td>c</td>\n",
       "      <td>Egypt</td>\n",
       "      <td>15.0</td>\n",
       "      <td>36</td>\n",
       "      <td>0</td>\n",
       "      <td>15</td>\n",
       "      <td>1.0</td>\n",
       "    </tr>\n",
       "  </tbody>\n",
       "</table>\n",
       "</div>"
      ],
      "text/plain": [
       "   problem_id           problem_name problem_type pl            country  \\\n",
       "0           0  day-of-the-programmer   algorithms  c              India   \n",
       "1           0  day-of-the-programmer   algorithms  c            Germany   \n",
       "2           0  day-of-the-programmer   algorithms  c  Republic of Korea   \n",
       "3           0  day-of-the-programmer   algorithms  c     United Kingdom   \n",
       "4           0  day-of-the-programmer   algorithms  c          Indonesia   \n",
       "5           0  day-of-the-programmer   algorithms  c           Bulgaria   \n",
       "6           0  day-of-the-programmer   algorithms  c      United States   \n",
       "7           0  day-of-the-programmer   algorithms  c             Brazil   \n",
       "8           0  day-of-the-programmer   algorithms  c          Sri Lanka   \n",
       "9           0  day-of-the-programmer   algorithms  c              Egypt   \n",
       "\n",
       "   score  count  difficulty  max_score  score_percentage  \n",
       "0   15.0   2100           0         15               1.0  \n",
       "1   15.0      6           0         15               1.0  \n",
       "2   15.0      8           0         15               1.0  \n",
       "3   15.0      5           0         15               1.0  \n",
       "4   15.0     20           0         15               1.0  \n",
       "5   15.0      3           0         15               1.0  \n",
       "6   15.0     42           0         15               1.0  \n",
       "7   15.0      8           0         15               1.0  \n",
       "8   15.0     13           0         15               1.0  \n",
       "9   15.0     36           0         15               1.0  "
      ]
     },
     "execution_count": 272,
     "metadata": {},
     "output_type": "execute_result"
    }
   ],
   "source": [
    "algo_ds_merged[\"score_percentage\"] = (algo_ds_merged[\"score\"]/algo_ds_merged[\"max_score\"]).astype(np.float16)\n",
    "algo_ds_merged.head(10)"
   ]
  },
  {
   "cell_type": "markdown",
   "id": "1a98cf0d",
   "metadata": {},
   "source": [
    "## Data Exploration:\n",
    "---"
   ]
  },
  {
   "cell_type": "markdown",
   "id": "4bf31c3d",
   "metadata": {},
   "source": [
    "- ### Exploring the Most Popular Programming Languages and their Effectiveness in solving challenges"
   ]
  },
  {
   "cell_type": "code",
   "execution_count": 273,
   "id": "cac194d4",
   "metadata": {},
   "outputs": [],
   "source": [
    "# Number of times each programming language is used\n",
    "pls_count = algo_ds_merged.groupby(\"pl\")[\"count\"].sum()\n",
    "# Number of times each programming language was successful in solving the challenged (Got 100% score)\n",
    "pls_success_count = algo_ds_merged[algo_ds_merged[\"score_percentage\"] == 1].groupby(\"pl\")[\"count\"].sum()"
   ]
  },
  {
   "cell_type": "code",
   "execution_count": 274,
   "id": "50faa712",
   "metadata": {},
   "outputs": [],
   "source": [
    "# Common programming langauges in 'pls_success_count', 'pls_count'\n",
    "common_indices = [x for x in pls_success_count.index.values if x in pls_count.index.values]"
   ]
  },
  {
   "cell_type": "code",
   "execution_count": 275,
   "id": "e17e8bab",
   "metadata": {},
   "outputs": [
    {
     "data": {
      "text/plain": [
       "pl\n",
       "ada                58\n",
       "bash              817\n",
       "c               48956\n",
       "clojure          1128\n",
       "coffeescript       26\n",
       "Name: count, dtype: int64"
      ]
     },
     "execution_count": 275,
     "metadata": {},
     "output_type": "execute_result"
    }
   ],
   "source": [
    "pls_count[common_indices].head()"
   ]
  },
  {
   "cell_type": "code",
   "execution_count": 276,
   "id": "13e5a7b7",
   "metadata": {},
   "outputs": [
    {
     "data": {
      "text/plain": [
       "pl\n",
       "ada             0.000112\n",
       "bash            0.001577\n",
       "c               0.094517\n",
       "clojure         0.002178\n",
       "coffeescript    0.000050\n",
       "Name: count, dtype: float64"
      ]
     },
     "execution_count": 276,
     "metadata": {},
     "output_type": "execute_result"
    }
   ],
   "source": [
    "# Percentage of usage of each programming language\n",
    "pls_rate = pls_count[common_indices]/sum(pls_count[common_indices].values)\n",
    "pls_rate.head()"
   ]
  },
  {
   "cell_type": "code",
   "execution_count": 277,
   "id": "db4a0c11",
   "metadata": {},
   "outputs": [
    {
     "data": {
      "text/plain": [
       "pl\n",
       "ada                20\n",
       "bash              308\n",
       "c               41553\n",
       "clojure           985\n",
       "coffeescript       13\n",
       "Name: count, dtype: int64"
      ]
     },
     "execution_count": 277,
     "metadata": {},
     "output_type": "execute_result"
    }
   ],
   "source": [
    "pls_success_count[common_indices].head()"
   ]
  },
  {
   "cell_type": "code",
   "execution_count": 278,
   "id": "97c498d1",
   "metadata": {},
   "outputs": [
    {
     "data": {
      "text/plain": [
       "pl\n",
       "ada             0.344828\n",
       "bash            0.376989\n",
       "c               0.848783\n",
       "clojure         0.873227\n",
       "coffeescript    0.500000\n",
       "Name: count, dtype: float64"
      ]
     },
     "execution_count": 278,
     "metadata": {},
     "output_type": "execute_result"
    }
   ],
   "source": [
    "# Percentage of problems successfully solved (Got 100% score) in each programming language \n",
    "pls_success_rate = pls_success_count[common_indices]/pls_count[common_indices]\n",
    "pls_success_rate.head()"
   ]
  },
  {
   "cell_type": "code",
   "execution_count": 279,
   "id": "f95b4d89",
   "metadata": {},
   "outputs": [
    {
     "data": {
      "image/png": "[encoded data removed]",
      "text/plain": [
       "<Figure size 1000x500 with 1 Axes>"
      ]
     },
     "metadata": {},
     "output_type": "display_data"
    }
   ],
   "source": [
    "# Top m used programming languages\n",
    "m1 = 15\n",
    "plt.figure(figsize=(2*5,2*2.5))\n",
    "y_pls_rate = pls_rate.sort_values(ascending=False)[0:m1]\n",
    "plt.bar(x=y_pls_rate.index[0:m1],height=100*y_pls_rate ,width=0.5,color=\"red\",label=\"Failed attempt on a HackerRank challenge (less than 100% score)\")\n",
    "success_rates_modified = pls_success_rate[pls_rate.sort_values(ascending=False)[0:m1].index.values]*pls_rate.sort_values(ascending=False)[0:m1]\n",
    "plt.bar(x=success_rates_modified.index[0:m1],height=100*success_rates_modified,width=0.5,color=\"green\",label=\"Successful attempt on a HackerRank challenge (got 100% score)\")\n",
    "plt.xticks(rotation=90,fontsize=10)\n",
    "for i,p in enumerate(success_rates_modified):\n",
    "    plt.text(x=i-0.1,y=p*0.5*100, s = f'{100*round(p/pls_rate.sort_values(ascending=False)[0:m1][i],2)}%', rotation=60,rotation_mode = \"anchor\",color = \"white\",fontsize=11,path_effects=[pe.withStroke(linewidth=2, foreground=\"black\")])\n",
    "plt.xlabel(\"Programming Languages\")\n",
    "plt.ylabel(\"Percentage of usage\")\n",
    "plt.ylim([0,100*max(pls_rate.sort_values(ascending=False)[0:m1])*1.3])\n",
    "plt.legend()\n",
    "plt.show()"
   ]
  },
  {
   "cell_type": "code",
   "execution_count": 280,
   "id": "10ab54a3",
   "metadata": {},
   "outputs": [
    {
     "data": {
      "text/html": [
       "<div>\n",
       "<style scoped>\n",
       "    .dataframe tbody tr th:only-of-type {\n",
       "        vertical-align: middle;\n",
       "    }\n",
       "\n",
       "    .dataframe tbody tr th {\n",
       "        vertical-align: top;\n",
       "    }\n",
       "\n",
       "    .dataframe thead th {\n",
       "        text-align: right;\n",
       "    }\n",
       "</style>\n",
       "<table border=\"1\" class=\"dataframe\">\n",
       "  <thead>\n",
       "    <tr style=\"text-align: right;\">\n",
       "      <th></th>\n",
       "      <th>pls_rate</th>\n",
       "      <th>pls_success_rate</th>\n",
       "    </tr>\n",
       "  </thead>\n",
       "  <tbody>\n",
       "    <tr>\n",
       "      <th>pls_rate</th>\n",
       "      <td>1.000000</td>\n",
       "      <td>0.262489</td>\n",
       "    </tr>\n",
       "    <tr>\n",
       "      <th>pls_success_rate</th>\n",
       "      <td>0.262489</td>\n",
       "      <td>1.000000</td>\n",
       "    </tr>\n",
       "  </tbody>\n",
       "</table>\n",
       "</div>"
      ],
      "text/plain": [
       "                  pls_rate  pls_success_rate\n",
       "pls_rate          1.000000          0.262489\n",
       "pls_success_rate  0.262489          1.000000"
      ]
     },
     "execution_count": 280,
     "metadata": {},
     "output_type": "execute_result"
    }
   ],
   "source": [
    "# Spearman correlation\n",
    "pd.DataFrame({\"pls_rate\":pls_rate,\"pls_success_rate\":pls_success_rate}).corr(method=\"spearman\")"
   ]
  },
  {
   "cell_type": "markdown",
   "id": "170467f9",
   "metadata": {},
   "source": [
    "**Comment:** We can see there's a weak correlation between popularity of a programming language and it's effectiveness in coding challenges"
   ]
  },
  {
   "cell_type": "markdown",
   "id": "5fed166f",
   "metadata": {},
   "source": [
    "- ### Exploring Counteries by the Number of Challenges solved and how good were their solutions "
   ]
  },
  {
   "cell_type": "code",
   "execution_count": 281,
   "id": "fcb08f18",
   "metadata": {},
   "outputs": [],
   "source": [
    "common_indices_2 = [x for x in algo_ds_merged.groupby(\"country\")[\"count\"].sum().index if x in algo_ds_merged[algo_ds_merged[\"score_percentage\"] == 1].groupby(\"country\")[\"count\"].sum().index]\n",
    "counteries_rate =  algo_ds_merged.groupby(\"country\")[\"count\"].sum()[common_indices_2]/sum(algo_ds_merged.groupby(\"country\")[\"count\"].sum()[common_indices_2])\n",
    "counteries_success_rate = algo_ds_merged[algo_ds_merged[\"score_percentage\"] == 1].groupby(\"country\")[\"count\"].sum()[common_indices_2]/algo_ds_merged.groupby(\"country\")[\"count\"].sum()[common_indices_2]\n",
    "counteries_rate_m = counteries_rate.sort_values(ascending = False)[0:m2]\n",
    "counteries_success_rate_m = counteries_success_rate[counteries_rate_m.index]"
   ]
  },
  {
   "cell_type": "code",
   "execution_count": 282,
   "id": "ea702453",
   "metadata": {},
   "outputs": [
    {
     "data": {
      "image/png": "[encoded data removed]",
      "text/plain": [
       "<Figure size 1000x500 with 2 Axes>"
      ]
     },
     "metadata": {},
     "output_type": "display_data"
    }
   ],
   "source": [
    "np.random.seed(1)\n",
    "m2 = 15\n",
    "plt.figure(figsize=(2*5,2*2.5))\n",
    "x = np.random.rand(len(algo_ds_merged[\"country\"].unique()))\n",
    "y = np.random.rand(len(algo_ds_merged[\"country\"].unique()))\n",
    "cmap = plt.get_cmap(\"autumn\").reversed()\n",
    "plt.scatter(x[0:m2],y[0:m2],s=100000*counteries_rate_m,c= 100*counteries_success_rate_m,cmap=cmap,alpha = 0.7)\n",
    "for i,p in enumerate(counteries_rate_m):\n",
    "    plt.text(x=x[i] - 0.03,y=y[i] - 0.01, s = counteries_rate_m.index[i], color = \"black\",fontsize=10)\n",
    "plt.ylim([-0.3,max(y)*1.5])\n",
    "plt.xlim([-0.3,max(x)*1.1])\n",
    "plt.xlabel(\"Countries by number of solved challenges on HackerRank\")\n",
    "plt.colorbar(label = \"Percentage of HackerRank challenges solved correctly (got 100% score)\",orientation = \"horizontal\",aspect = 40)\n",
    "plt.xticks(color='w')\n",
    "plt.yticks(color='w')\n",
    "plt.show()\n",
    "#plt.clim(0,1)"
   ]
  },
  {
   "cell_type": "code",
   "execution_count": 283,
   "id": "e997d74e",
   "metadata": {},
   "outputs": [
    {
     "data": {
      "text/html": [
       "<div>\n",
       "<style scoped>\n",
       "    .dataframe tbody tr th:only-of-type {\n",
       "        vertical-align: middle;\n",
       "    }\n",
       "\n",
       "    .dataframe tbody tr th {\n",
       "        vertical-align: top;\n",
       "    }\n",
       "\n",
       "    .dataframe thead th {\n",
       "        text-align: right;\n",
       "    }\n",
       "</style>\n",
       "<table border=\"1\" class=\"dataframe\">\n",
       "  <thead>\n",
       "    <tr style=\"text-align: right;\">\n",
       "      <th></th>\n",
       "      <th>counteries_rate</th>\n",
       "      <th>counteries_success_rate</th>\n",
       "    </tr>\n",
       "  </thead>\n",
       "  <tbody>\n",
       "    <tr>\n",
       "      <th>counteries_rate</th>\n",
       "      <td>1.000000</td>\n",
       "      <td>-0.413727</td>\n",
       "    </tr>\n",
       "    <tr>\n",
       "      <th>counteries_success_rate</th>\n",
       "      <td>-0.413727</td>\n",
       "      <td>1.000000</td>\n",
       "    </tr>\n",
       "  </tbody>\n",
       "</table>\n",
       "</div>"
      ],
      "text/plain": [
       "                         counteries_rate  counteries_success_rate\n",
       "counteries_rate                 1.000000                -0.413727\n",
       "counteries_success_rate        -0.413727                 1.000000"
      ]
     },
     "execution_count": 283,
     "metadata": {},
     "output_type": "execute_result"
    }
   ],
   "source": [
    "# Spearman correlation\n",
    "pd.DataFrame({\"counteries_rate\":counteries_rate,\"counteries_success_rate\":counteries_success_rate}).corr(method=\"spearman\")"
   ]
  },
  {
   "cell_type": "markdown",
   "id": "20b0a704",
   "metadata": {},
   "source": [
    "**Comment:** We can see negative medium correlaton between number of challenges solved by a country and the how good were their solutions (So counteries with fewer solved challenges, did surprisingly better)"
   ]
  },
  {
   "cell_type": "markdown",
   "id": "5efb3a98",
   "metadata": {},
   "source": [
    "- ### Exploring the Average Score as algorthims challenges are solved sequentially (gets harder)"
   ]
  },
  {
   "cell_type": "code",
   "execution_count": 284,
   "id": "0c2febe3",
   "metadata": {},
   "outputs": [
    {
     "data": {
      "text/plain": [
       "<matplotlib.legend.Legend at 0x1e15b3cceb0>"
      ]
     },
     "execution_count": 284,
     "metadata": {},
     "output_type": "execute_result"
    },
    {
     "data": {
      "image/png": "[encoded data removed]",
      "text/plain": [
       "<Figure size 640x480 with 1 Axes>"
      ]
     },
     "metadata": {},
     "output_type": "display_data"
    }
   ],
   "source": [
    "def probabla(x):\n",
    "    return (1/1000)*math.pow(x - 22,2) + 0.4\n",
    "len_algos = len(algo_ds_merged[algo_ds_merged[\"problem_type\"] == \"algorithms\"].groupby(\"problem_id\"))\n",
    "problem_id_avg_score = algo_ds_merged[algo_ds_merged[\"problem_type\"] == \"algorithms\"].groupby(\"problem_id\")[\"score_percentage\"].mean()\n",
    "plt.plot(problem_id_avg_score,label = \"true values\")\n",
    "X = np.linspace(0,len_algos,500)\n",
    "plt.plot(X,[probabla(x) for x in X],label = \"estimation\")\n",
    "plt.xlabel(\"HackeRank algorthim challenge number/id \\n (problems get harder as the number increases)\")\n",
    "plt.ylabel(\"Average score (In percentage)\")\n",
    "plt.ylim((min(problem_id_avg_score)*0.95,max(problem_id_avg_score)*1.05))\n",
    "plt.legend(loc = \"upper right\")"
   ]
  },
  {
   "cell_type": "markdown",
   "id": "2d222ec9",
   "metadata": {},
   "source": [
    "**Comment:** We can see that average score starts out very high (Since problems start out very simple on hackerrank) then  average score starts to decline as we reach the problems in the middle (Which makes sense since things start getting harder and harder) then by the end, the average score rises again (Which implies that HackerRank users have devoloped their problem solving skills and are now used to solving hard coding challenges OR simply because those HackerRank users who make it to the end must be professtional enough to get such scores)"
   ]
  }
 ],
 "metadata": {
  "kernelspec": {
   "display_name": "Python 3",
   "language": "python",
   "name": "python3"
  },
  "language_info": {
   "codemirror_mode": {
    "name": "ipython",
    "version": 3
   },
   "file_extension": ".py",
   "mimetype": "text/x-python",
   "name": "python",
   "nbconvert_exporter": "python",
   "pygments_lexer": "ipython3",
   "version": "3.9.6"
  }
 },
 "nbformat": 4,
 "nbformat_minor": 5
}
